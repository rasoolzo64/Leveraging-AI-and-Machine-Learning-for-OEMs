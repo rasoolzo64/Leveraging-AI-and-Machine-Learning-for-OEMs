# EDA_and_Training.ipynb

# Import libraries
import pandas as pd
import matplotlib.pyplot as plt
import seaborn as sns
from sklearn.ensemble import RandomForestClassifier
from sklearn.metrics import accuracy_score

# Load data
data = pd.read_csv('../data/machine_data.csv')

# Exploratory Data Analysis
# Plotting temperature distribution
sns.histplot(data['temperature'])
plt.show()

# Train and test splitting (as in data_processing.py)
# Train the model and evaluate accuracy
# Display results
